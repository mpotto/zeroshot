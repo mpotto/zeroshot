{
 "cells": [
  {
   "cell_type": "code",
   "execution_count": 1,
   "metadata": {},
   "outputs": [],
   "source": [
    "import torch\n",
    "from torch.distributions.multivariate_normal import MultivariateNormal\n",
    "from torch.distributions import Binomial\n",
    "from sklearn.linear_model import LogisticRegression\n",
    "import math\n",
    "from tqdm import tqdm"
   ]
  },
  {
   "cell_type": "markdown",
   "metadata": {},
   "source": [
    "## Data Distributions"
   ]
  },
  {
   "cell_type": "code",
   "execution_count": 2,
   "metadata": {},
   "outputs": [],
   "source": [
    "rho = 0.5\n",
    "diff = 0.7\n",
    "d = 2\n",
    "muX_0 = torch.ones(d) * diff\n",
    "muX_1 = -torch.ones(d) * diff\n",
    "\n",
    "# def generate_distributions(a, b, a_, b_):\n",
    "    \n",
    "#     muZ_0 =  torch.ones(2) * math.sqrt(a) * math.sqrt(scale)\n",
    "#     muZ_1 = -torch.ones(2) * math.sqrt(b) * math.sqrt(scale)\n",
    "\n",
    "#     CZZ_0 = a * torch.eye(2)\n",
    "#     CZX_0 = math.sqrt(scale) * torch.eye(2) * math.sqrt(a_) \n",
    "#     CZZ_1 = b * torch.eye(2)\n",
    "#     CZX_1 = math.sqrt(scale) * torch.eye(2) * math.sqrt(b_)\n",
    "\n",
    "#     return  muZ_0, muZ_1, CZZ_0, CZX_0, CZZ_1, CZX_1\n",
    "\n",
    "def generate_distributions(a, b, a_, b_):\n",
    "    \n",
    "    muZ_0 = (a_ / a) * muX_0 / rho\n",
    "    muZ_1 = (b_ / b) * muX_1 / rho\n",
    "\n",
    "    CZZ_0 = a * torch.eye(d)\n",
    "    CZX_0 = rho * torch.eye(d) * a_\n",
    "    CZZ_1 = b * torch.eye(d)\n",
    "    CZX_1 = rho * torch.eye(d) * b_\n",
    "\n",
    "    CXX_0 = (1 + rho ** 2 * a) * torch.eye(d)\n",
    "    CXX_1 = (1 + rho ** 2 * b) * torch.eye(d)\n",
    "\n",
    "    return  muZ_0, muZ_1, CZZ_0, CZX_0, CZZ_1, CZX_1, CXX_0, CXX_1"
   ]
  },
  {
   "cell_type": "markdown",
   "metadata": {},
   "source": [
    "## Utilities"
   ]
  },
  {
   "cell_type": "code",
   "execution_count": 3,
   "metadata": {},
   "outputs": [],
   "source": [
    "\n",
    "def sample_Z_given(x, muZ_0, CZX_0, CZZ_0, CXZ_0, muZ_1, CZX_1, CZZ_1, CXZ_1, CXX_0, CXX_1, p, n_samples=10, seed=123):\n",
    "    dist_0 = MultivariateNormal(loc=muZ_0 + CZX_0 @ torch.linalg.solve(CXX_0, x - muX_0), covariance_matrix=CZZ_0 - CZX_0 @ torch.linalg.solve(CXX_0, CXZ_0))\n",
    "    dist_1 = MultivariateNormal(loc=muZ_1 + CZX_1 @ torch.linalg.solve(CXX_1, x - muX_1), covariance_matrix=CZZ_1 - CZX_1 @ torch.linalg.solve(CXX_1, CXZ_1))\n",
    "    binom = Binomial(total_count=n_samples, probs=p)\n",
    "    torch.manual_seed(seed)\n",
    "    n1 = binom.sample((1,)).int().item()\n",
    "    n0 = n_samples - n1\n",
    "    return torch.cat([dist_0.rsample((n0,)), dist_1.rsample((n1,))], dim=0)\n",
    "\n",
    "def compute_lpxz(x, z, mvn_0, mvn_1, p):\n",
    "    v = torch.cat([x, z], axis=1)\n",
    "    lp_1 = math.log(p)\n",
    "    lp_0 = math.log(1 - p)\n",
    "    numer = mvn_1.log_prob(v) + lp_1\n",
    "    denom = torch.logsumexp(torch.stack([mvn_1.log_prob(v) + lp_1, mvn_0.log_prob(v) + lp_0]), dim=0)\n",
    "\n",
    "    return numer - denom\n",
    "\n",
    "def compute_lpz(z, mvnZ_0, mvnZ_1, p):\n",
    "    lp_1 = math.log(p)\n",
    "    lp_0 = math.log(1 - p)\n",
    "    numer = mvnZ_1.log_prob(z) + lp_1\n",
    "    denom = torch.logsumexp(torch.stack([mvnZ_1.log_prob(z) + lp_1, mvnZ_0.log_prob(z) + lp_0]), dim=0)\n",
    "    return numer - denom\n",
    "\n",
    "def compute_lpx(x, mvnX_0, mvnX_1, p):\n",
    "    lp_1 = math.log(p)\n",
    "    lp_0 = math.log(1 - p)\n",
    "    numer = mvnX_1.log_prob(x) + lp_1\n",
    "    denom = torch.logsumexp(torch.stack([mvnX_1.log_prob(x) + lp_1, mvnX_0.log_prob(x) + lp_0]), dim=0)\n",
    "    return numer - denom\n",
    "\n",
    "def compute_cmi(mvn_0, mvn_1, mvnZ_0, mvnZ_1, n_samples, p, tol=1e-8, seed=123):\n",
    "\n",
    "    # compute test data\n",
    "    torch.manual_seed(seed)\n",
    "    n1 = int(n_samples * p)\n",
    "    n0 = n_samples - n1\n",
    "    v = torch.cat([mvn_0.rsample((n0,)), mvn_1.rsample((n1,))], dim=0)\n",
    "    x = v[:, :len(muX_0)]\n",
    "    z = v[:, len(muX_0):]\n",
    "    v_ = torch.cat([mvn_0.rsample((n0,)), mvn_1.rsample((n1,))], dim=0)\n",
    "    z_ =  v_[:, len(muX_0):]\n",
    "\n",
    "    # pxz = torch.clamp(compute_lpxz(x, z, mvn_0, mvn_1, p), min=tol, max=1 - tol)\n",
    "    # pz = torch.clamp(compute_lpz(z_, mvnZ_0, mvnZ_1, p), min=tol, max=1 - tol)\n",
    "    lpxz = compute_lpxz(x, z, mvn_0, mvn_1, p)\n",
    "    lpz = compute_lpz(z_, mvnZ_0, mvnZ_1, p)\n",
    "    pxz = torch.exp(lpxz)\n",
    "    pz = torch.exp(lpz)\n",
    "\n",
    "    # possible numerical issue from exp then log.\n",
    "    H_XZ = (-(pxz) * lpxz - (1 - pxz) * torch.log1p(-pxz)).mean()\n",
    "    H_Z = (-(pz) * lpz - (1 - pz) * torch.log1p(-pz)).mean()\n",
    "\n",
    "    return H_Z - H_XZ\n",
    "\n",
    "def compute_bayes_accuracy(p, x, y, mvnX_0, mvnX_1):\n",
    "    lpx = compute_lpx(x, mvnX_0, mvnX_1, p)\n",
    "    y_pred = (lpx >= math.log(0.5)).int()\n",
    "    return (y == y_pred).sum() / len(y)\n",
    "\n",
    "def compute_two_stage_accuracy(p, x, y, muZ_0, CZX_0, CZZ_0, CXZ_0, muZ_1, CZX_1, CZZ_1, CXZ_1, CXX_0, CXX_1, mvnZ_0, mvnZ_1, seed=123):\n",
    "    px = []\n",
    "    for x_ in x:\n",
    "        z = sample_Z_given(x_, muZ_0, CZX_0, CZZ_0, CXZ_0, muZ_1, CZX_1, CZZ_1, CXZ_1, CXX_0, CXX_1, p, n_samples=3000, seed=seed)\n",
    "        px.append(torch.exp(compute_lpz(z, mvnZ_0, mvnZ_1, p)).mean())\n",
    "    px = torch.tensor(px)\n",
    "    y_pred = (px >= 0.5).int()\n",
    "    return (y == y_pred).sum() / len(y)"
   ]
  },
  {
   "cell_type": "code",
   "execution_count": 4,
   "metadata": {},
   "outputs": [],
   "source": [
    "def run_experiment(p, a, b, a_, b_, n_samples=10, seed=123):\n",
    "\n",
    "    # data distributions and parametrs\n",
    "    muZ_0,  muZ_1, CZZ_0, CZX_0, CZZ_1, CZX_1, CXX_0, CXX_1 = generate_distributions(a, b, a_, b_)\n",
    "    CXZ_0 = CZX_0.T\n",
    "    CXZ_1 = CZX_1.T\n",
    "    mu_0 = torch.cat([muX_0, muZ_0])\n",
    "    mu_1 = torch.cat([muX_1, muZ_1])\n",
    "    C_0 = torch.cat(\n",
    "            [\n",
    "                torch.cat([CXX_0, CXZ_0], dim=1),\n",
    "                torch.cat([CZX_0, CZZ_0], dim=1)\n",
    "            ], dim=0\n",
    "        )\n",
    "    C_1 = torch.cat(\n",
    "        [\n",
    "            torch.cat([CXX_1, CXZ_1], dim=1),\n",
    "            torch.cat([CZX_1, CZZ_1], dim=1)\n",
    "        ], dim=0\n",
    "    )\n",
    "\n",
    "    # samplers\n",
    "    mvn_0 = MultivariateNormal(loc=mu_0, covariance_matrix=C_0)\n",
    "    mvn_1 = MultivariateNormal(loc=mu_1, covariance_matrix=C_1)\n",
    "\n",
    "    mvnX_0 = MultivariateNormal(loc=muX_0, covariance_matrix=CXX_0)\n",
    "    mvnX_1 = MultivariateNormal(loc=muX_1, covariance_matrix=CXX_1)\n",
    "\n",
    "    mvnZ_0 = MultivariateNormal(loc=muZ_0, covariance_matrix=CZZ_0)\n",
    "    mvnZ_1 = MultivariateNormal(loc=muZ_1, covariance_matrix=CZZ_1)\n",
    "\n",
    "    # test for conditional independence of X and Y given Z\n",
    "    muX_given_Z_0 = muX_0 - CXZ_0 @ torch.linalg.solve(CZZ_0, muZ_0)\n",
    "    muX_given_Z_1 = muX_1 - CXZ_1 @ torch.linalg.solve(CZZ_1, muZ_1)\n",
    "    print(f\"\\t conditional indep check first-order 1:  {torch.norm(muX_given_Z_0 - muX_given_Z_1).item():0.4f}\")\n",
    "    print(f\"\\t conditional indep check first-order 2:  {torch.norm(torch.linalg.solve(CZZ_0, CZX_0) - torch.linalg.solve(CZZ_1, CZX_1)).item():0.4f}\")\n",
    "\n",
    "    CXX_given_Z_0 = CXX_0 - CXZ_0 @ torch.linalg.solve(CZZ_0, CZX_0)\n",
    "    CXX_given_Z_1 = CXX_1 - CXZ_1 @ torch.linalg.solve(CZZ_1, CZX_1)\n",
    "    print(f\"\\t conditional indep check second-order: {torch.norm(CXX_given_Z_0 - CXX_given_Z_1).item():0.4f}\")\n",
    "\n",
    "    I = compute_cmi(mvn_0, mvn_1, mvnZ_0, mvnZ_1, 1000, p)\n",
    "\n",
    "    # compute test data\n",
    "    binom = Binomial(total_count=n_samples, probs=p)\n",
    "    torch.manual_seed(seed)\n",
    "    n1 = binom.sample((1,)).int().item()\n",
    "    n0 = n_samples - n1\n",
    "    x = torch.cat([mvnX_0.rsample((n0,)), mvnX_1.rsample((n1,))], dim=0)\n",
    "    y = torch.cat([torch.zeros(n0), torch.ones(n1)]).int()\n",
    "\n",
    "    acc1 = compute_bayes_accuracy(p, x, y, mvnX_0, mvnX_1)\n",
    "    acc2 = compute_two_stage_accuracy(p, x, y, muZ_0, CZX_0, CZZ_0, CXZ_0, muZ_1, CZX_1, CZZ_1, CXZ_1, CXX_0, CXX_1, mvnZ_0, mvnZ_1)\n",
    "    \n",
    "    return I.item(), acc1.item(), acc2.item()"
   ]
  },
  {
   "cell_type": "markdown",
   "metadata": {},
   "source": [
    "## Test Conditional Independence"
   ]
  },
  {
   "cell_type": "code",
   "execution_count": 5,
   "metadata": {},
   "outputs": [
    {
     "name": "stdout",
     "output_type": "stream",
     "text": [
      "\t conditional indep check first-order 1:  0.0000\n",
      "\t conditional indep check first-order 2:  0.0000\n",
      "\t conditional indep check second-order: 0.0000\n",
      "I(X;Y|Z) = 0.00334644\n",
      "acc1 = 0.74949998\n",
      "acc2 = 0.74949998\n"
     ]
    }
   ],
   "source": [
    "p = 0.5\n",
    "a = 5\n",
    "b = 6\n",
    "\n",
    "I, acc1, acc2 = run_experiment(p, a, b, a, b, n_samples=2000, seed=123)\n",
    "\n",
    "print(f\"I(X;Y|Z) = {I:0.8f}\")\n",
    "print(f\"acc1 = {acc1:0.8f}\")\n",
    "print(f\"acc2 = {acc2:0.8f}\")"
   ]
  },
  {
   "cell_type": "markdown",
   "metadata": {},
   "source": [
    "## Experiment"
   ]
  },
  {
   "cell_type": "code",
   "execution_count": 6,
   "metadata": {},
   "outputs": [
    {
     "name": "stderr",
     "output_type": "stream",
     "text": [
      "  0%|          | 0/10 [00:00<?, ?it/s]"
     ]
    },
    {
     "name": "stdout",
     "output_type": "stream",
     "text": [
      "control parameter = 0.050\n",
      "\t conditional indep check first-order 1:  1.9279\n",
      "\t conditional indep check first-order 2:  0.1228\n",
      "\t conditional indep check second-order: 0.2519\n"
     ]
    },
    {
     "name": "stderr",
     "output_type": "stream",
     "text": [
      " 10%|█         | 1/10 [00:04<00:40,  4.50s/it]"
     ]
    },
    {
     "name": "stdout",
     "output_type": "stream",
     "text": [
      "\n",
      "control parameter = 0.156\n",
      "\t conditional indep check first-order 1:  1.8020\n",
      "\t conditional indep check first-order 2:  0.1689\n",
      "\t conditional indep check second-order: 0.0663\n"
     ]
    },
    {
     "name": "stderr",
     "output_type": "stream",
     "text": [
      " 20%|██        | 2/10 [00:08<00:35,  4.49s/it]"
     ]
    },
    {
     "name": "stdout",
     "output_type": "stream",
     "text": [
      "\n",
      "control parameter = 0.261\n",
      "\t conditional indep check first-order 1:  1.6539\n",
      "\t conditional indep check first-order 2:  0.1767\n",
      "\t conditional indep check second-order: 0.0798\n"
     ]
    },
    {
     "name": "stderr",
     "output_type": "stream",
     "text": [
      " 30%|███       | 3/10 [00:13<00:31,  4.49s/it]"
     ]
    },
    {
     "name": "stdout",
     "output_type": "stream",
     "text": [
      "\n",
      "control parameter = 0.367\n",
      "\t conditional indep check first-order 1:  1.4838\n",
      "\t conditional indep check first-order 2:  0.1689\n",
      "\t conditional indep check second-order: 0.1866\n"
     ]
    },
    {
     "name": "stderr",
     "output_type": "stream",
     "text": [
      " 40%|████      | 4/10 [00:18<00:27,  4.53s/it]"
     ]
    },
    {
     "name": "stdout",
     "output_type": "stream",
     "text": [
      "\n",
      "control parameter = 0.472\n",
      "\t conditional indep check first-order 1:  1.2917\n",
      "\t conditional indep check first-order 2:  0.1520\n",
      "\t conditional indep check second-order: 0.2540\n"
     ]
    },
    {
     "name": "stderr",
     "output_type": "stream",
     "text": [
      " 50%|█████     | 5/10 [00:22<00:22,  4.55s/it]"
     ]
    },
    {
     "name": "stdout",
     "output_type": "stream",
     "text": [
      "\n",
      "control parameter = 0.578\n",
      "\t conditional indep check first-order 1:  1.0775\n",
      "\t conditional indep check first-order 2:  0.1289\n",
      "\t conditional indep check second-order: 0.2820\n"
     ]
    },
    {
     "name": "stderr",
     "output_type": "stream",
     "text": [
      " 60%|██████    | 6/10 [00:27<00:18,  4.52s/it]"
     ]
    },
    {
     "name": "stdout",
     "output_type": "stream",
     "text": [
      "\n",
      "control parameter = 0.683\n",
      "\t conditional indep check first-order 1:  0.8412\n",
      "\t conditional indep check first-order 2:  0.1013\n",
      "\t conditional indep check second-order: 0.2706\n"
     ]
    },
    {
     "name": "stderr",
     "output_type": "stream",
     "text": [
      " 70%|███████   | 7/10 [00:31<00:13,  4.50s/it]"
     ]
    },
    {
     "name": "stdout",
     "output_type": "stream",
     "text": [
      "\n",
      "control parameter = 0.789\n",
      "\t conditional indep check first-order 1:  0.5828\n",
      "\t conditional indep check first-order 2:  0.0702\n",
      "\t conditional indep check second-order: 0.2198\n"
     ]
    },
    {
     "name": "stderr",
     "output_type": "stream",
     "text": [
      " 80%|████████  | 8/10 [00:36<00:09,  4.52s/it]"
     ]
    },
    {
     "name": "stdout",
     "output_type": "stream",
     "text": [
      "\n",
      "control parameter = 0.894\n",
      "\t conditional indep check first-order 1:  0.3025\n",
      "\t conditional indep check first-order 2:  0.0363\n",
      "\t conditional indep check second-order: 0.1296\n"
     ]
    },
    {
     "name": "stderr",
     "output_type": "stream",
     "text": [
      " 90%|█████████ | 9/10 [00:40<00:04,  4.53s/it]"
     ]
    },
    {
     "name": "stdout",
     "output_type": "stream",
     "text": [
      "\n",
      "control parameter = 1.000\n",
      "\t conditional indep check first-order 1:  0.0000\n",
      "\t conditional indep check first-order 2:  0.0000\n",
      "\t conditional indep check second-order: 0.0000\n"
     ]
    },
    {
     "name": "stderr",
     "output_type": "stream",
     "text": [
      "100%|██████████| 10/10 [00:45<00:00,  4.51s/it]"
     ]
    },
    {
     "name": "stdout",
     "output_type": "stream",
     "text": [
      "\n"
     ]
    },
    {
     "name": "stderr",
     "output_type": "stream",
     "text": [
      "\n"
     ]
    }
   ],
   "source": [
    "p = 0.5\n",
    "a = 5\n",
    "b = 6\n",
    "props = torch.linspace(0.05, 1.0, 10)\n",
    "# props = torch.logspace(-torch.inf, 0.0, 10)\n",
    "# props = torch.tensor([0.0, 0.01, 0.03, 0.06, 0.6, 1.0])\n",
    "\n",
    "Is, acc1s, acc2s = [], [], []\n",
    "for prop in tqdm(props):\n",
    "    print(f\"control parameter = {prop:0.3f}\")\n",
    "    a_ = prop * a\n",
    "    b_ = math.sqrt(prop) * b\n",
    "    I, acc1, acc2 = run_experiment(p, a, b, a_, b_, n_samples=2000, seed=123)\n",
    "    Is.append(I)\n",
    "    acc1s.append(acc1)\n",
    "    acc2s.append(acc2)\n",
    "    print()"
   ]
  },
  {
   "cell_type": "code",
   "execution_count": 7,
   "metadata": {},
   "outputs": [],
   "source": [
    "torch.save(torch.tensor(Is), f\"output/mutual_info_{d}.pt\")\n",
    "torch.save(torch.tensor(acc1s), f\"output/bayes_accuracies_{d}.pt\")\n",
    "torch.save(torch.tensor(acc2s), f\"output/two_stage_accuracies_{d}.pt\")\n",
    "torch.save(props, f\"output/props_{d}.pt\")"
   ]
  },
  {
   "cell_type": "markdown",
   "metadata": {},
   "source": [
    "## MiniCLIP Models"
   ]
  },
  {
   "cell_type": "code",
   "execution_count": 8,
   "metadata": {},
   "outputs": [],
   "source": [
    "import torch.nn as nn\n",
    "import torch.nn.functional as F\n",
    "from torch.utils.data import Dataset, DataLoader"
   ]
  },
  {
   "cell_type": "code",
   "execution_count": 9,
   "metadata": {},
   "outputs": [],
   "source": [
    "class MLP(nn.Module):\n",
    "    def __init__(self, in_features, hidden_size, n_layers, out_features):\n",
    "        super(MLP, self).__init__()\n",
    "        if n_layers > 0:\n",
    "            self.proj = nn.Linear(in_features, hidden_size)\n",
    "            self.layers = nn.ModuleList([nn.Linear(hidden_size, hidden_size) for _ in range(n_layers - 1)])\n",
    "            self.out = nn.Linear(hidden_size, out_features)\n",
    "        else:\n",
    "            self.out = nn.Linear(in_features, out_features)\n",
    "        self.n_layers = n_layers\n",
    "\n",
    "    def forward(self, x):\n",
    "        if self.n_layers > 0:\n",
    "            x = F.relu(self.proj(x))\n",
    "            for layer in self.layers:\n",
    "                x = F.relu(layer(x))\n",
    "        return self.out(x)\n",
    "\n",
    "def clip_loss(logits):\n",
    "    cx   = F.log_softmax(logits, dim=1)\n",
    "    cy   = F.log_softmax(logits, dim=0)\n",
    "    return -torch.mean(0.5 * torch.diagonal(cx) + 0.5 * torch.diagonal(cy))\n",
    "\n",
    "# reach goal\n",
    "def vicreg_loss(logits):\n",
    "    pass\n",
    "\n",
    "def get_loss(loss):\n",
    "    if loss == \"clip\":\n",
    "        return clip_loss\n",
    "    else:\n",
    "        raise NotImplementedError\n",
    "\n",
    "class MiniCLIP(nn.Module):\n",
    "    def __init__(\n",
    "            self,\n",
    "            in_features_img, \n",
    "            hidden_size_img, \n",
    "            n_layers_img,\n",
    "            in_features_txt, \n",
    "            hidden_size_txt, \n",
    "            n_layers_txt,\n",
    "            out_features, \n",
    "            loss=\"clip\",\n",
    "        ):\n",
    "        super(MiniCLIP, self).__init__()\n",
    "        self.image_encoder = MLP(in_features_img, hidden_size_img, n_layers_img, out_features)\n",
    "        self.text_encoder  = MLP(in_features_txt, hidden_size_txt, n_layers_txt, out_features)\n",
    "        # self.logit_scale = torch.nn.Parameter(0.1 * torch.randn(1)) # learnable parameter\n",
    "        self.scale = 100.\n",
    "        self.loss = get_loss(loss)\n",
    "\n",
    "    def forward(self, x, z):\n",
    "\n",
    "        # extract feature representations of each modality\n",
    "        I_f = self.image_encoder(x)\n",
    "        T_f = self.text_encoder(z)\n",
    "\n",
    "        # joint multimodal embedding [n, d_e]\n",
    "        I_e = F.normalize(I_f)\n",
    "        T_e = F.normalize(T_f)\n",
    "\n",
    "        # scaled pairwise cosine similarities [n, n]\n",
    "        logits = torch.matmul(I_e, T_e.T) * self.scale\n",
    "\n",
    "        # symmetric loss function\n",
    "        loss = self.loss(logits)\n",
    "\n",
    "        return loss, logits\n",
    "\n",
    "class MultimodalEmbeddingDataset(Dataset):\n",
    "    def __init__(self, x, z, y):\n",
    "        self.x = x\n",
    "        self.z = z\n",
    "        self.y = y\n",
    "        self.n = len(self.x)\n",
    "\n",
    "    def __len__(self):\n",
    "        return self.n\n",
    "\n",
    "    def __getitem__(self, i):\n",
    "        return i, self.x[i], self.z[i], self.y[i]"
   ]
  },
  {
   "cell_type": "markdown",
   "metadata": {},
   "source": [
    "## Training Run"
   ]
  },
  {
   "cell_type": "code",
   "execution_count": 10,
   "metadata": {},
   "outputs": [],
   "source": [
    "def run_nn_experiment(p, a, b, a_, b_, d, seed=123, device=\"cuda:0\"):\n",
    "    # data distributions and parametrs\n",
    "    muZ_0,  muZ_1, CZZ_0, CZX_0, CZZ_1, CZX_1, CXX_0, CXX_1 = generate_distributions(a, b, a_, b_)\n",
    "    CXZ_0 = CZX_0.T\n",
    "    CXZ_1 = CZX_1.T\n",
    "    mu_0 = torch.cat([muX_0, muZ_0])\n",
    "    mu_1 = torch.cat([muX_1, muZ_1])\n",
    "    C_0 = torch.cat(\n",
    "            [\n",
    "                torch.cat([CXX_0, CXZ_0], dim=1),\n",
    "                torch.cat([CZX_0, CZZ_0], dim=1)\n",
    "            ], dim=0\n",
    "        )\n",
    "    C_1 = torch.cat(\n",
    "        [\n",
    "            torch.cat([CXX_1, CXZ_1], dim=1),\n",
    "            torch.cat([CZX_1, CZZ_1], dim=1)\n",
    "        ], dim=0\n",
    "    )\n",
    "\n",
    "    # samplers\n",
    "    mvn_0 = MultivariateNormal(loc=mu_0, covariance_matrix=C_0)\n",
    "    mvn_1 = MultivariateNormal(loc=mu_1, covariance_matrix=C_1)\n",
    "\n",
    "\n",
    "    torch.manual_seed(seed)\n",
    "\n",
    "    # training data\n",
    "    n_samples = 10000\n",
    "    batch_size = 500\n",
    "    n1 = int(n_samples * p)\n",
    "    n0 = n_samples - n1\n",
    "    v = torch.cat([mvn_0.rsample((n0,)), mvn_1.rsample((n1,))], dim=0)\n",
    "    x = v[:, :len(muX_0)]\n",
    "    z = v[:, len(muX_0):]\n",
    "    y = torch.cat([torch.zeros(n0), torch.ones(n1)]).int()\n",
    "    train_dataset = MultimodalEmbeddingDataset(x, z, y)\n",
    "    train_dataloader = DataLoader(\n",
    "        train_dataset, shuffle=True, batch_size=batch_size\n",
    "    )\n",
    "\n",
    "    # prompt data\n",
    "    n_samples = 500\n",
    "    n1 = int(n_samples * p)\n",
    "    n0 = n_samples - n1\n",
    "    v = torch.cat([mvn_0.rsample((n0,)), mvn_1.rsample((n1,))], dim=0)\n",
    "    z0 = v[:n0, len(muX_0):]\n",
    "    z1 = v[n0:, len(muX_0):]\n",
    "\n",
    "    # evaluation data\n",
    "    n_samples = 5000\n",
    "    batch_size = 500\n",
    "    n1 = int(n_samples * p)\n",
    "    n0 = n_samples - n1\n",
    "    v = torch.cat([mvn_0.rsample((n0,)), mvn_1.rsample((n1,))], dim=0)\n",
    "    x = v[:, :len(muX_0)]\n",
    "    z = v[:, len(muX_0):]\n",
    "    y = torch.cat([torch.zeros(n0), torch.ones(n1)]).int()\n",
    "    val_dataset = MultimodalEmbeddingDataset(x, z, y)\n",
    "    val_dataloader = DataLoader(\n",
    "        val_dataset, shuffle=True, batch_size=batch_size\n",
    "    )\n",
    "\n",
    "    model_cfg = {\n",
    "        \"in_features_img\": d, \n",
    "        \"hidden_size_img\": 16, \n",
    "        \"n_layers_img\": 1,\n",
    "        \"in_features_txt\": d, \n",
    "        \"hidden_size_txt\": 16, \n",
    "        \"n_layers_txt\": 1,\n",
    "        \"out_features\": 2, \n",
    "    }\n",
    "    model = MiniCLIP(**model_cfg).to(device)\n",
    "    optimizer = torch.optim.AdamW(model.parameters(), lr=1e-2)\n",
    "\n",
    "    n_epochs = 30\n",
    "    for epoch in tqdm(range(n_epochs)):\n",
    "        total_loss = 0\n",
    "        for idx, x, z, y in train_dataloader:\n",
    "            x = x.to(device)\n",
    "            z = z.to(device)\n",
    "            loss, logits = model(x, z)\n",
    "            loss.backward()\n",
    "\n",
    "            optimizer.step()\n",
    "            optimizer.zero_grad()\n",
    "            total_loss += loss.item()\n",
    "        if epoch % 6 == 0:\n",
    "            print(f\"epoch {epoch + 1:02d}/{n_epochs:02d} loss: {total_loss / len(train_dataloader):0.5f}\")\n",
    "\n",
    "    # generate classifier\n",
    "    with torch.no_grad():\n",
    "        w0 = F.normalize(model.text_encoder(z0.to(device))).mean(dim=0)\n",
    "        w1 = F.normalize(model.text_encoder(z1.to(device))).mean(dim=0)\n",
    "        total_acc = 0\n",
    "        for idx, x, z, y in val_dataloader:\n",
    "            features = F.normalize(model.image_encoder(x.to(device)))\n",
    "            scores = torch.stack([features @ w0, features @ w1])\n",
    "            y_pred = torch.argmax(scores, dim=0).cpu()\n",
    "            total_acc += ((y == y_pred).sum() / len(y)).item()\n",
    "        avg_acc = total_acc / len(val_dataloader)\n",
    "\n",
    "    return avg_acc"
   ]
  },
  {
   "cell_type": "code",
   "execution_count": 11,
   "metadata": {},
   "outputs": [
    {
     "name": "stderr",
     "output_type": "stream",
     "text": [
      "  0%|          | 0/10 [00:00<?, ?it/s]"
     ]
    },
    {
     "name": "stdout",
     "output_type": "stream",
     "text": [
      "control parameter = 0.050\n"
     ]
    },
    {
     "name": "stderr",
     "output_type": "stream",
     "text": []
    },
    {
     "name": "stdout",
     "output_type": "stream",
     "text": [
      "epoch 01/30 loss: 22.69090\n"
     ]
    },
    {
     "name": "stderr",
     "output_type": "stream",
     "text": []
    },
    {
     "name": "stdout",
     "output_type": "stream",
     "text": [
      "epoch 07/30 loss: 6.21607\n"
     ]
    },
    {
     "name": "stderr",
     "output_type": "stream",
     "text": []
    },
    {
     "name": "stdout",
     "output_type": "stream",
     "text": [
      "epoch 13/30 loss: 6.21029\n"
     ]
    },
    {
     "name": "stderr",
     "output_type": "stream",
     "text": []
    },
    {
     "name": "stdout",
     "output_type": "stream",
     "text": [
      "epoch 19/30 loss: 6.20845\n"
     ]
    },
    {
     "name": "stderr",
     "output_type": "stream",
     "text": []
    },
    {
     "name": "stdout",
     "output_type": "stream",
     "text": [
      "epoch 25/30 loss: 6.20739\n"
     ]
    },
    {
     "name": "stderr",
     "output_type": "stream",
     "text": [
      "100%|██████████| 30/30 [00:05<00:00,  5.98it/s]\n",
      " 10%|█         | 1/10 [00:05<00:52,  5.89s/it]"
     ]
    },
    {
     "name": "stdout",
     "output_type": "stream",
     "text": [
      "\t accuracy = 0.7092\n",
      "\n",
      "control parameter = 0.156\n"
     ]
    },
    {
     "name": "stderr",
     "output_type": "stream",
     "text": []
    },
    {
     "name": "stdout",
     "output_type": "stream",
     "text": [
      "epoch 01/30 loss: 22.61258\n"
     ]
    },
    {
     "name": "stderr",
     "output_type": "stream",
     "text": []
    },
    {
     "name": "stdout",
     "output_type": "stream",
     "text": [
      "epoch 07/30 loss: 6.19078\n"
     ]
    },
    {
     "name": "stderr",
     "output_type": "stream",
     "text": []
    },
    {
     "name": "stdout",
     "output_type": "stream",
     "text": [
      "epoch 13/30 loss: 6.18260\n"
     ]
    },
    {
     "name": "stderr",
     "output_type": "stream",
     "text": []
    },
    {
     "name": "stdout",
     "output_type": "stream",
     "text": [
      "epoch 19/30 loss: 6.17971\n"
     ]
    },
    {
     "name": "stderr",
     "output_type": "stream",
     "text": []
    },
    {
     "name": "stdout",
     "output_type": "stream",
     "text": [
      "epoch 25/30 loss: 6.17754\n"
     ]
    },
    {
     "name": "stderr",
     "output_type": "stream",
     "text": [
      "100%|██████████| 30/30 [00:04<00:00,  6.20it/s]\n",
      " 20%|██        | 2/10 [00:10<00:42,  5.30s/it]"
     ]
    },
    {
     "name": "stdout",
     "output_type": "stream",
     "text": [
      "\t accuracy = 0.7442\n",
      "\n",
      "control parameter = 0.261\n"
     ]
    },
    {
     "name": "stderr",
     "output_type": "stream",
     "text": []
    },
    {
     "name": "stdout",
     "output_type": "stream",
     "text": [
      "epoch 01/30 loss: 22.61045\n"
     ]
    },
    {
     "name": "stderr",
     "output_type": "stream",
     "text": []
    },
    {
     "name": "stdout",
     "output_type": "stream",
     "text": [
      "epoch 07/30 loss: 6.15527\n"
     ]
    },
    {
     "name": "stderr",
     "output_type": "stream",
     "text": []
    },
    {
     "name": "stdout",
     "output_type": "stream",
     "text": [
      "epoch 13/30 loss: 6.14569\n"
     ]
    },
    {
     "name": "stderr",
     "output_type": "stream",
     "text": []
    },
    {
     "name": "stdout",
     "output_type": "stream",
     "text": [
      "epoch 19/30 loss: 6.14134\n"
     ]
    },
    {
     "name": "stderr",
     "output_type": "stream",
     "text": []
    },
    {
     "name": "stdout",
     "output_type": "stream",
     "text": [
      "epoch 25/30 loss: 6.13848\n"
     ]
    },
    {
     "name": "stderr",
     "output_type": "stream",
     "text": [
      "100%|██████████| 30/30 [00:04<00:00,  6.28it/s]\n",
      " 30%|███       | 3/10 [00:15<00:36,  5.14s/it]"
     ]
    },
    {
     "name": "stdout",
     "output_type": "stream",
     "text": [
      "\t accuracy = 0.7460\n",
      "\n",
      "control parameter = 0.367\n"
     ]
    },
    {
     "name": "stderr",
     "output_type": "stream",
     "text": []
    },
    {
     "name": "stdout",
     "output_type": "stream",
     "text": [
      "epoch 01/30 loss: 22.39768\n"
     ]
    },
    {
     "name": "stderr",
     "output_type": "stream",
     "text": []
    },
    {
     "name": "stdout",
     "output_type": "stream",
     "text": [
      "epoch 07/30 loss: 6.11209\n"
     ]
    },
    {
     "name": "stderr",
     "output_type": "stream",
     "text": []
    },
    {
     "name": "stdout",
     "output_type": "stream",
     "text": [
      "epoch 13/30 loss: 6.10035\n"
     ]
    },
    {
     "name": "stderr",
     "output_type": "stream",
     "text": []
    },
    {
     "name": "stdout",
     "output_type": "stream",
     "text": [
      "epoch 19/30 loss: 6.09479\n"
     ]
    },
    {
     "name": "stderr",
     "output_type": "stream",
     "text": []
    },
    {
     "name": "stdout",
     "output_type": "stream",
     "text": [
      "epoch 25/30 loss: 6.09166\n"
     ]
    },
    {
     "name": "stderr",
     "output_type": "stream",
     "text": [
      "100%|██████████| 30/30 [00:04<00:00,  6.33it/s]\n",
      " 40%|████      | 4/10 [00:20<00:30,  5.01s/it]"
     ]
    },
    {
     "name": "stdout",
     "output_type": "stream",
     "text": [
      "\t accuracy = 0.7464\n",
      "\n",
      "control parameter = 0.472\n"
     ]
    },
    {
     "name": "stderr",
     "output_type": "stream",
     "text": []
    },
    {
     "name": "stdout",
     "output_type": "stream",
     "text": [
      "epoch 01/30 loss: 22.44750\n"
     ]
    },
    {
     "name": "stderr",
     "output_type": "stream",
     "text": []
    },
    {
     "name": "stdout",
     "output_type": "stream",
     "text": [
      "epoch 07/30 loss: 6.05914\n"
     ]
    },
    {
     "name": "stderr",
     "output_type": "stream",
     "text": []
    },
    {
     "name": "stdout",
     "output_type": "stream",
     "text": [
      "epoch 13/30 loss: 6.04670\n"
     ]
    },
    {
     "name": "stderr",
     "output_type": "stream",
     "text": []
    },
    {
     "name": "stdout",
     "output_type": "stream",
     "text": [
      "epoch 19/30 loss: 6.04026\n"
     ]
    },
    {
     "name": "stderr",
     "output_type": "stream",
     "text": []
    },
    {
     "name": "stdout",
     "output_type": "stream",
     "text": [
      "epoch 25/30 loss: 6.03688\n"
     ]
    },
    {
     "name": "stderr",
     "output_type": "stream",
     "text": [
      "100%|██████████| 30/30 [00:04<00:00,  6.06it/s]\n",
      " 50%|█████     | 5/10 [00:25<00:25,  5.01s/it]"
     ]
    },
    {
     "name": "stdout",
     "output_type": "stream",
     "text": [
      "\t accuracy = 0.7450\n",
      "\n",
      "control parameter = 0.578\n"
     ]
    },
    {
     "name": "stderr",
     "output_type": "stream",
     "text": []
    },
    {
     "name": "stdout",
     "output_type": "stream",
     "text": [
      "epoch 01/30 loss: 21.81422\n"
     ]
    },
    {
     "name": "stderr",
     "output_type": "stream",
     "text": []
    },
    {
     "name": "stdout",
     "output_type": "stream",
     "text": [
      "epoch 07/30 loss: 6.00699\n"
     ]
    },
    {
     "name": "stderr",
     "output_type": "stream",
     "text": []
    },
    {
     "name": "stdout",
     "output_type": "stream",
     "text": [
      "epoch 13/30 loss: 5.98673\n"
     ]
    },
    {
     "name": "stderr",
     "output_type": "stream",
     "text": []
    },
    {
     "name": "stdout",
     "output_type": "stream",
     "text": [
      "epoch 19/30 loss: 5.97781\n"
     ]
    },
    {
     "name": "stderr",
     "output_type": "stream",
     "text": []
    },
    {
     "name": "stdout",
     "output_type": "stream",
     "text": [
      "epoch 25/30 loss: 5.97420\n"
     ]
    },
    {
     "name": "stderr",
     "output_type": "stream",
     "text": [
      "100%|██████████| 30/30 [00:04<00:00,  6.35it/s]\n",
      " 60%|██████    | 6/10 [00:30<00:19,  4.93s/it]"
     ]
    },
    {
     "name": "stdout",
     "output_type": "stream",
     "text": [
      "\t accuracy = 0.7418\n",
      "\n",
      "control parameter = 0.683\n"
     ]
    },
    {
     "name": "stderr",
     "output_type": "stream",
     "text": []
    },
    {
     "name": "stdout",
     "output_type": "stream",
     "text": [
      "epoch 01/30 loss: 21.28830\n"
     ]
    },
    {
     "name": "stderr",
     "output_type": "stream",
     "text": []
    },
    {
     "name": "stdout",
     "output_type": "stream",
     "text": [
      "epoch 07/30 loss: 5.95832\n"
     ]
    },
    {
     "name": "stderr",
     "output_type": "stream",
     "text": []
    },
    {
     "name": "stdout",
     "output_type": "stream",
     "text": [
      "epoch 13/30 loss: 5.92171\n"
     ]
    },
    {
     "name": "stderr",
     "output_type": "stream",
     "text": []
    },
    {
     "name": "stdout",
     "output_type": "stream",
     "text": [
      "epoch 19/30 loss: 5.91067\n"
     ]
    },
    {
     "name": "stderr",
     "output_type": "stream",
     "text": []
    },
    {
     "name": "stdout",
     "output_type": "stream",
     "text": [
      "epoch 25/30 loss: 5.90601\n"
     ]
    },
    {
     "name": "stderr",
     "output_type": "stream",
     "text": [
      "100%|██████████| 30/30 [00:04<00:00,  6.09it/s]\n",
      " 70%|███████   | 7/10 [00:35<00:14,  4.94s/it]"
     ]
    },
    {
     "name": "stdout",
     "output_type": "stream",
     "text": [
      "\t accuracy = 0.7424\n",
      "\n",
      "control parameter = 0.789\n"
     ]
    },
    {
     "name": "stderr",
     "output_type": "stream",
     "text": []
    },
    {
     "name": "stdout",
     "output_type": "stream",
     "text": [
      "epoch 01/30 loss: 20.93928\n"
     ]
    },
    {
     "name": "stderr",
     "output_type": "stream",
     "text": []
    },
    {
     "name": "stdout",
     "output_type": "stream",
     "text": [
      "epoch 07/30 loss: 5.91179\n"
     ]
    },
    {
     "name": "stderr",
     "output_type": "stream",
     "text": []
    },
    {
     "name": "stdout",
     "output_type": "stream",
     "text": [
      "epoch 13/30 loss: 5.85386\n"
     ]
    },
    {
     "name": "stderr",
     "output_type": "stream",
     "text": []
    },
    {
     "name": "stdout",
     "output_type": "stream",
     "text": [
      "epoch 19/30 loss: 5.83915\n"
     ]
    },
    {
     "name": "stderr",
     "output_type": "stream",
     "text": []
    },
    {
     "name": "stdout",
     "output_type": "stream",
     "text": [
      "epoch 25/30 loss: 5.83267\n"
     ]
    },
    {
     "name": "stderr",
     "output_type": "stream",
     "text": [
      "100%|██████████| 30/30 [00:04<00:00,  6.27it/s]\n",
      " 80%|████████  | 8/10 [00:40<00:09,  4.91s/it]"
     ]
    },
    {
     "name": "stdout",
     "output_type": "stream",
     "text": [
      "\t accuracy = 0.7410\n",
      "\n",
      "control parameter = 0.894\n"
     ]
    },
    {
     "name": "stderr",
     "output_type": "stream",
     "text": []
    },
    {
     "name": "stdout",
     "output_type": "stream",
     "text": [
      "epoch 01/30 loss: 20.69702\n"
     ]
    },
    {
     "name": "stderr",
     "output_type": "stream",
     "text": []
    },
    {
     "name": "stdout",
     "output_type": "stream",
     "text": [
      "epoch 07/30 loss: 5.86373\n"
     ]
    },
    {
     "name": "stderr",
     "output_type": "stream",
     "text": []
    },
    {
     "name": "stdout",
     "output_type": "stream",
     "text": [
      "epoch 13/30 loss: 5.78111\n"
     ]
    },
    {
     "name": "stderr",
     "output_type": "stream",
     "text": []
    },
    {
     "name": "stdout",
     "output_type": "stream",
     "text": [
      "epoch 19/30 loss: 5.75984\n"
     ]
    },
    {
     "name": "stderr",
     "output_type": "stream",
     "text": []
    },
    {
     "name": "stdout",
     "output_type": "stream",
     "text": [
      "epoch 25/30 loss: 5.75058\n"
     ]
    },
    {
     "name": "stderr",
     "output_type": "stream",
     "text": [
      "100%|██████████| 30/30 [00:04<00:00,  6.04it/s]\n",
      " 90%|█████████ | 9/10 [00:45<00:04,  4.94s/it]"
     ]
    },
    {
     "name": "stdout",
     "output_type": "stream",
     "text": [
      "\t accuracy = 0.7416\n",
      "\n",
      "control parameter = 1.000\n"
     ]
    },
    {
     "name": "stderr",
     "output_type": "stream",
     "text": []
    },
    {
     "name": "stdout",
     "output_type": "stream",
     "text": [
      "epoch 01/30 loss: 20.38393\n"
     ]
    },
    {
     "name": "stderr",
     "output_type": "stream",
     "text": []
    },
    {
     "name": "stdout",
     "output_type": "stream",
     "text": [
      "epoch 07/30 loss: 5.76931\n"
     ]
    },
    {
     "name": "stderr",
     "output_type": "stream",
     "text": []
    },
    {
     "name": "stdout",
     "output_type": "stream",
     "text": [
      "epoch 13/30 loss: 5.69539\n"
     ]
    },
    {
     "name": "stderr",
     "output_type": "stream",
     "text": []
    },
    {
     "name": "stdout",
     "output_type": "stream",
     "text": [
      "epoch 19/30 loss: 5.66931\n"
     ]
    },
    {
     "name": "stderr",
     "output_type": "stream",
     "text": []
    },
    {
     "name": "stdout",
     "output_type": "stream",
     "text": [
      "epoch 25/30 loss: 5.65839\n"
     ]
    },
    {
     "name": "stderr",
     "output_type": "stream",
     "text": [
      "100%|██████████| 30/30 [00:04<00:00,  6.07it/s]\n",
      "100%|██████████| 10/10 [00:50<00:00,  5.01s/it]"
     ]
    },
    {
     "name": "stdout",
     "output_type": "stream",
     "text": [
      "\t accuracy = 0.7496\n",
      "\n"
     ]
    },
    {
     "name": "stderr",
     "output_type": "stream",
     "text": [
      "\n"
     ]
    }
   ],
   "source": [
    "props = torch.load(f\"output/props_{d}.pt\")\n",
    "\n",
    "acc3s = []\n",
    "for prop in tqdm(props):\n",
    "    print(f\"control parameter = {prop:0.3f}\")\n",
    "    a_ = prop * a\n",
    "    b_ = math.sqrt(prop) * b\n",
    "    acc3 = run_nn_experiment(p, a, b, a_, b_, d, seed=567)\n",
    "    acc3s.append(acc3)\n",
    "    print(f\"\\t accuracy = {acc3:0.4f}\")\n",
    "    print()\n",
    "\n",
    "torch.save(torch.tensor(acc3s), f\"output/clip_accuracies_{d}.pt\")"
   ]
  },
  {
   "cell_type": "markdown",
   "metadata": {},
   "source": [
    "## Plotting"
   ]
  },
  {
   "cell_type": "code",
   "execution_count": 2,
   "metadata": {},
   "outputs": [],
   "source": [
    "import matplotlib.pyplot as plt\n",
    "import seaborn as sns\n",
    "\n",
    "import matplotlib as mpl\n",
    "\n",
    "mpl.rcParams['lines.linewidth'] = 3\n",
    "mpl.rcParams['xtick.labelsize'] = 16\n",
    "mpl.rcParams['ytick.labelsize'] = 16\n",
    "mpl.rcParams[\"axes.labelsize\"] = 23\n",
    "mpl.rcParams['legend.fontsize'] = 20\n",
    "mpl.rcParams['axes.titlesize'] = 28\n",
    "# mpl.rcParams['text.usetex'] = True # comment out this line if the machine does not have TeX installed\n",
    "mpl.rcParams['pdf.fonttype'] = 42\n",
    "mpl.rcParams['ps.fonttype'] = 42"
   ]
  },
  {
   "cell_type": "code",
   "execution_count": 4,
   "metadata": {},
   "outputs": [],
   "source": [
    "d = 2\n",
    "\n",
    "Is = torch.load(f\"output_backup/mutual_info_{d}.pt\")\n",
    "acc1s = torch.load(f\"output_backup/bayes_accuracies_{d}.pt\")\n",
    "acc2s = torch.load(f\"output_backup/two_stage_accuracies_{d}.pt\")\n",
    "acc3s = torch.load(f\"output_backup/clip_accuracies_{d}.pt\")\n",
    "props = torch.load(f\"output_backup/props_{d}.pt\")"
   ]
  },
  {
   "cell_type": "code",
   "execution_count": 5,
   "metadata": {},
   "outputs": [
    {
     "name": "stdout",
     "output_type": "stream",
     "text": [
      "tensor([0.7495, 0.7495, 0.7495, 0.7495, 0.7495, 0.7495, 0.7495, 0.7495, 0.7495,\n",
      "        0.7495])\n",
      "tensor([0.7235, 0.7325, 0.7350, 0.7350, 0.7400, 0.7405, 0.7425, 0.7450, 0.7485,\n",
      "        0.7495])\n",
      "tensor([0.7092, 0.7442, 0.7460, 0.7464, 0.7450, 0.7418, 0.7424, 0.7410, 0.7416,\n",
      "        0.7496])\n",
      "tensor([0.0260, 0.0170, 0.0145, 0.0145, 0.0095, 0.0090, 0.0070, 0.0045, 0.0010,\n",
      "        0.0000])\n",
      "tensor([0.1713, 0.1557, 0.1355, 0.1131, 0.0897, 0.0664, 0.0443, 0.0248, 0.0099,\n",
      "        0.0033])\n"
     ]
    }
   ],
   "source": [
    "print(acc1s)\n",
    "print(acc2s)\n",
    "print(acc3s)\n",
    "print(acc1s-acc2s)\n",
    "print(Is)"
   ]
  },
  {
   "cell_type": "code",
   "execution_count": 6,
   "metadata": {},
   "outputs": [
    {
     "data": {
      "image/png": "[encoded data removed]",
      "text/plain": [
       "<Figure size 2400x800 with 3 Axes>"
      ]
     },
     "metadata": {},
     "output_type": "display_data"
    }
   ],
   "source": [
    "sns.set_style(\"whitegrid\")\n",
    "\n",
    "pscale = 8\n",
    "s = 60\n",
    "fig, ax = plt.subplots(1, 3, figsize=(3 * pscale, pscale))\n",
    "\n",
    "points = props\n",
    "ax[0].plot(points, acc1s, label=\"Bayes Optimal\", color=\"gray\")\n",
    "ax[0].plot(points, acc2s, label=\"Two-Stage Optimal\", color=\"tab:blue\")\n",
    "ax[0].plot(points, acc3s, label=\"CLIP\", color=\"tab:red\")\n",
    "ax[0].legend(loc = \"lower right\")\n",
    "ax[1].scatter(points, Is, color=\"k\", s=s)\n",
    "ax[1].plot(points, Is, color=\"k\")\n",
    "\n",
    "ax[0].set_ylabel(\"Classification Accuracy\")\n",
    "ax[1].set_ylabel(r\"Conditional Mutual Information $I(X;Y|Z)$\")\n",
    "\n",
    "ax[0].set_xlabel(\"Control Parameter\")\n",
    "ax[1].set_xlabel(\"Control Parameter\")\n",
    "\n",
    "ax[2].scatter(Is, acc1s - acc2s, color=\"k\", s=s)\n",
    "ax[2].plot(Is, acc1s - acc2s, color=\"k\")\n",
    "ax[2].set_xlabel(r\"Conditional Mutual Information $I(X;Y|Z)$\")\n",
    "ax[2].set_ylabel(\"Accuracy Gap\")\n",
    "# ax[2].set_xscale(\"log\")\n",
    "# ax[2].set_yscale(\"log\")\n",
    "\n",
    "for ax_ in ax:\n",
    "    ax_.patch.set_edgecolor('black')  \n",
    "    ax_.patch.set_linewidth(1.5)\n",
    "\n",
    "fig.tight_layout(pad=2)"
   ]
  },
  {
   "cell_type": "code",
   "execution_count": null,
   "metadata": {},
   "outputs": [],
   "source": []
  },
  {
   "cell_type": "code",
   "execution_count": null,
   "metadata": {},
   "outputs": [],
   "source": []
  }
 ],
 "metadata": {
  "kernelspec": {
   "display_name": "zsp",
   "language": "python",
   "name": "python3"
  },
  "language_info": {
   "codemirror_mode": {
    "name": "ipython",
    "version": 3
   },
   "file_extension": ".py",
   "mimetype": "text/x-python",
   "name": "python",
   "nbconvert_exporter": "python",
   "pygments_lexer": "ipython3",
   "version": "3.10.16"
  }
 },
 "nbformat": 4,
 "nbformat_minor": 2
}
