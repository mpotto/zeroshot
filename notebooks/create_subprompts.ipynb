{
 "cells": [
  {
   "cell_type": "code",
   "execution_count": 17,
   "metadata": {},
   "outputs": [],
   "source": [
    "import json\n",
    "import numpy as np\n",
    "import os\n",
    "from tqdm import tqdm"
   ]
  },
  {
   "cell_type": "code",
   "execution_count": 18,
   "metadata": {},
   "outputs": [],
   "source": [
    "PROMPT_PATH = \"../prompts\""
   ]
  },
  {
   "cell_type": "code",
   "execution_count": 23,
   "metadata": {},
   "outputs": [],
   "source": [
    "datasets = {\n",
    "    \"dtd\": [2, 4, 8, 16, 32, 46, 60], \n",
    "    \"fgvc_aircraft\": [2, 4, 8, 14, 20], \n",
    "    \"sun397\": [2, 4, 8, 16, 23, 30], \n",
    "    \"flowers\": [2, 4, 8, 14, 20],\n",
    "}\n",
    "\n",
    "n_seeds = 10"
   ]
  },
  {
   "cell_type": "code",
   "execution_count": 27,
   "metadata": {},
   "outputs": [],
   "source": [
    "dataset = \"flowers\"\n",
    "\n",
    "with open(f\"../prompts/{dataset}/{dataset}_prompts_full.json\", \"r\") as f:\n",
    "    prompt_dict = json.load(f)[dataset]\n",
    "\n",
    "for sample_size in datasets[dataset]:\n",
    "    for seed in range(n_seeds):\n",
    "        output = {classname: [] for classname in prompt_dict}\n",
    "        for c, classname in enumerate(prompt_dict):\n",
    "            idx = np.random.RandomState(seed + c).choice(datasets[dataset][-1], sample_size, replace=True)\n",
    "            for i in idx:\n",
    "                output[classname].append(prompt_dict[classname][i])\n",
    "        fp = os.path.join(PROMPT_PATH, f\"{dataset}/sample_size_{sample_size:02d}_seed_{seed}.json\") \n",
    "        with open(fp, 'w') as file:\n",
    "            json.dump(output, file, indent=4)"
   ]
  },
  {
   "cell_type": "code",
   "execution_count": null,
   "metadata": {},
   "outputs": [],
   "source": []
  }
 ],
 "metadata": {
  "kernelspec": {
   "display_name": "zsp",
   "language": "python",
   "name": "python3"
  },
  "language_info": {
   "codemirror_mode": {
    "name": "ipython",
    "version": 3
   },
   "file_extension": ".py",
   "mimetype": "text/x-python",
   "name": "python",
   "nbconvert_exporter": "python",
   "pygments_lexer": "ipython3",
   "version": "3.10.16"
  }
 },
 "nbformat": 4,
 "nbformat_minor": 2
}
