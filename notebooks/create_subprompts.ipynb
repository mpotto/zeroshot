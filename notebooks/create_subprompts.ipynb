{
 "cells": [
  {
   "cell_type": "code",
   "execution_count": 1,
   "metadata": {},
   "outputs": [],
   "source": [
    "import json\n",
    "import numpy as np\n",
    "import os\n",
    "from tqdm import tqdm"
   ]
  },
  {
   "cell_type": "code",
   "execution_count": 2,
   "metadata": {},
   "outputs": [],
   "source": [
    "PROMPT_PATH = \"../prompts\""
   ]
  },
  {
   "cell_type": "code",
   "execution_count": 3,
   "metadata": {},
   "outputs": [],
   "source": [
    "datasets = {\n",
    "    \"dtd\": [2, 4, 8, 16, 32, 46, 60], \n",
    "    \"fgvc_aircraft\": [2, 4, 8, 14, 20], \n",
    "    \"sun397\": [2, 4, 8, 16, 23, 30], \n",
    "    \"flowers\": [2, 4, 8, 14, 20],\n",
    "}\n",
    "\n",
    "n_seeds = 10"
   ]
  },
  {
   "cell_type": "code",
   "execution_count": 5,
   "metadata": {},
   "outputs": [
    {
     "name": "stderr",
     "output_type": "stream",
     "text": [
      "  0%|          | 0/10 [00:00<?, ?it/s]"
     ]
    },
    {
     "name": "stderr",
     "output_type": "stream",
     "text": [
      "100%|██████████| 10/10 [00:01<00:00,  6.98it/s]\n",
      "100%|██████████| 10/10 [00:01<00:00,  6.76it/s]\n",
      "100%|██████████| 10/10 [00:01<00:00,  8.61it/s]\n",
      "100%|██████████| 10/10 [00:01<00:00,  8.08it/s]\n",
      "100%|██████████| 10/10 [00:01<00:00,  7.68it/s]\n",
      "100%|██████████| 10/10 [00:01<00:00,  7.97it/s]\n"
     ]
    }
   ],
   "source": [
    "dataset = \"sun397\"\n",
    "\n",
    "with open(f\"../prompts/{dataset}/{dataset}_prompts_full.json\", \"r\") as f:\n",
    "    prompt_dict = json.load(f)[dataset]\n",
    "\n",
    "for sample_size in datasets[dataset]:\n",
    "    for seed in tqdm(range(n_seeds)):\n",
    "        output = {classname.replace(\"(\", \"\").replace(\")\", \"\"): [] for classname in prompt_dict}\n",
    "        for c, classname in enumerate(prompt_dict):\n",
    "            idx = np.random.RandomState(seed + c).choice(datasets[dataset][-1], sample_size, replace=True)\n",
    "            for i in idx:\n",
    "                output[classname.replace(\"(\", \"\").replace(\")\", \"\")].append(prompt_dict[classname][i])\n",
    "        fp = os.path.join(PROMPT_PATH, f\"{dataset}/sample_size_{sample_size:02d}_seed_{seed}.json\") \n",
    "        with open(fp, 'w') as file:\n",
    "            json.dump({dataset: output}, file, indent=4)"
   ]
  },
  {
   "cell_type": "code",
   "execution_count": null,
   "metadata": {},
   "outputs": [],
   "source": []
  }
 ],
 "metadata": {
  "kernelspec": {
   "display_name": "zsp",
   "language": "python",
   "name": "python3"
  },
  "language_info": {
   "codemirror_mode": {
    "name": "ipython",
    "version": 3
   },
   "file_extension": ".py",
   "mimetype": "text/x-python",
   "name": "python",
   "nbconvert_exporter": "python",
   "pygments_lexer": "ipython3",
   "version": "3.10.16"
  }
 },
 "nbformat": 4,
 "nbformat_minor": 2
}
