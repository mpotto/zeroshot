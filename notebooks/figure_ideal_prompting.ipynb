{
 "cells": [
  {
   "cell_type": "code",
   "execution_count": 15,
   "metadata": {},
   "outputs": [],
   "source": [
    "import os\n",
    "import numpy as np\n",
    "import json\n",
    "import matplotlib.pyplot as plt\n",
    "import seaborn as sns"
   ]
  },
  {
   "cell_type": "code",
   "execution_count": 16,
   "metadata": {},
   "outputs": [],
   "source": [
    "# 3 models, 10 tasks, 5 classes, precision + recall + average."
   ]
  },
  {
   "cell_type": "code",
   "execution_count": 32,
   "metadata": {},
   "outputs": [],
   "source": [
    "OUT_PATH = \"../output/\"\n",
    "MODEL_TYPE, PRETRAINED = ('RN50', 'yfcc15m')\n",
    "N_TASKS = 10\n",
    "NUM_CLASSES = 250"
   ]
  },
  {
   "cell_type": "code",
   "execution_count": 105,
   "metadata": {},
   "outputs": [],
   "source": [
    "def load_result(model_type, pretrained, task_id, n_tasks, template, metric):\n",
    "    out_fp = os.path.join(OUT_PATH, f\"{model_type}/{pretrained}/{template}_{n_tasks}_tasks_{task_id}.json\")\n",
    "    with open(out_fp, 'r') as file:\n",
    "        output = json.load(file)\n",
    "    return np.array([output[\"classification_report\"][str(i)][metric] for i in range(NUM_CLASSES // n_tasks)])\n",
    "\n",
    "# def create_ax(ax, task_id, metric):\n",
    "#     result_temp = load_result(MODEL_TYPE, PRETRAINED, task_id, N_TASKS, \"imagenet1k\", metric)\n",
    "#     result_ideal = load_result(MODEL_TYPE, PRETRAINED, task_id, N_TASKS, \"imagenet_captions\", metric)\n",
    "\n",
    "#     bar_width = 0.4\n",
    "#     x = np.arange(len(result_temp) + 1)\n",
    "#     for i in range(len(result_temp)):\n",
    "#         ax.bar(x[i] - bar_width/2, result_temp[i], bar_width, color=baseline_color, alpha=0.3)\n",
    "#         ax.bar(x[i] + bar_width/2, result_ideal[i], bar_width, color=my_color, alpha=0.3)\n",
    "#     ax.bar(x[-1] - bar_width/2, result_temp.mean(), bar_width, color=baseline_color)\n",
    "#     ax.bar(x[-1] + bar_width/2, result_ideal.mean(), bar_width, color=my_color)\n",
    "\n",
    "def create_ax(ax, metric, colors):\n",
    "    baseline_color, my_color = colors\n",
    "    result_temp = []\n",
    "    result_ideal = []\n",
    "    for task_id in range(N_TASKS):\n",
    "        result_temp.append(load_result(MODEL_TYPE, PRETRAINED, task_id, N_TASKS, \"imagenet1k\", metric).mean())\n",
    "        result_ideal.append(load_result(MODEL_TYPE, PRETRAINED, task_id, N_TASKS, \"imagenet_captions\", metric).mean())\n",
    "\n",
    "    bar_width = 0.3\n",
    "    x = np.arange(len(result_temp))\n",
    "    ax.bar(x - bar_width/2, result_temp, bar_width, color=baseline_color, edgecolor=\"k\")\n",
    "    ax.bar(x + bar_width/2, result_ideal, bar_width, color=my_color, edgecolor=\"k\")"
   ]
  },
  {
   "cell_type": "code",
   "execution_count": 96,
   "metadata": {},
   "outputs": [],
   "source": [
    "# sns.set_style(\"whitegrid\")\n",
    "\n",
    "# scale = 3\n",
    "# fig, axes = plt.subplots(2, 5, figsize=(9 * scale, 2 * scale))\n",
    "\n",
    "# metric = \"precision\"\n",
    "# for i, task_id in enumerate(list(range(0, 5))):\n",
    "#     create_ax(axes[0, i], task_id, metric)\n",
    "# for i, task_id in enumerate(list(range(5, 10))):\n",
    "#     create_ax(axes[1, i], task_id, metric)"
   ]
  },
  {
   "cell_type": "code",
   "execution_count": 107,
   "metadata": {},
   "outputs": [
    {
     "data": {
      "image/png": "[encoded data removed]",
      "text/plain": [
       "<Figure size 1200x450 with 2 Axes>"
      ]
     },
     "metadata": {},
     "output_type": "display_data"
    }
   ],
   "source": [
    "sns.set_style(\"whitegrid\")\n",
    "\n",
    "scale = 3\n",
    "fig, axes = plt.subplots(1, 2, figsize=(4 * scale, 1.5 * scale))\n",
    "\n",
    "create_ax(axes[0], \"precision\", colors=(\"lightgray\", \"k\"))\n",
    "create_ax(axes[1], \"recall\", colors=(\"plum\", \"rebeccapurple\"))\n",
    "\n",
    "axes[0].set_title(\"Precision\")\n",
    "axes[1].set_title(\"Recall\")\n",
    "\n",
    "fig.tight_layout()"
   ]
  },
  {
   "cell_type": "code",
   "execution_count": null,
   "metadata": {},
   "outputs": [],
   "source": []
  }
 ],
 "metadata": {
  "kernelspec": {
   "display_name": "zsp",
   "language": "python",
   "name": "python3"
  },
  "language_info": {
   "codemirror_mode": {
    "name": "ipython",
    "version": 3
   },
   "file_extension": ".py",
   "mimetype": "text/x-python",
   "name": "python",
   "nbconvert_exporter": "python",
   "pygments_lexer": "ipython3",
   "version": "3.10.16"
  }
 },
 "nbformat": 4,
 "nbformat_minor": 2
}
