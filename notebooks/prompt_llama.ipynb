{
 "cells": [
  {
   "cell_type": "code",
   "execution_count": null,
   "metadata": {},
   "outputs": [],
   "source": [
    "import transformers\n",
    "import torch"
   ]
  },
  {
   "cell_type": "code",
   "execution_count": null,
   "metadata": {},
   "outputs": [],
   "source": [
    "with open('read.txt', 'r') as f:\n",
    "    HF_TOKEN = f.read()"
   ]
  },
  {
   "cell_type": "code",
   "execution_count": null,
   "metadata": {},
   "outputs": [
    {
     "name": "stderr",
     "output_type": "stream",
     "text": [
      "Device set to use cuda:0\n"
     ]
    }
   ],
   "source": [
    "model_id = \"meta-llama/Llama-3.2-1B-Instruct\"\n",
    "pipeline = transformers.pipeline(\n",
    "    \"text-generation\",\n",
    "    model=model_id,\n",
    "    model_kwargs={\"torch_dtype\": torch.bfloat16},\n",
    "    device_map=\"auto\",\n",
    "    token=HF_TOKEN\n",
    ")"
   ]
  },
  {
   "cell_type": "code",
   "execution_count": null,
   "metadata": {},
   "outputs": [],
   "source": [
    "# List of prompts\n",
    "prompts = [\n",
    "    \"Explain the concept of deep learning.\",\n",
    "    \"What are the main differences between Python and Java?\",\n",
    "    \"Describe the process of photosynthesis.\"\n",
    "]"
   ]
  },
  {
   "cell_type": "code",
   "execution_count": null,
   "metadata": {},
   "outputs": [
    {
     "name": "stderr",
     "output_type": "stream",
     "text": [
      "Setting `pad_token_id` to `eos_token_id`:128001 for open-end generation.\n",
      "Setting `pad_token_id` to `eos_token_id`:128001 for open-end generation.\n"
     ]
    },
    {
     "name": "stdout",
     "output_type": "stream",
     "text": [
      "Prompt: Explain the concept of deep learning.\n",
      "Response: [{'role': 'system', 'content': 'You are a helpful assistant.'}, {'role': 'user', 'content': 'Explain the concept of deep learning.'}, {'role': 'assistant', 'content': 'Deep learning is a subfield of machine learning that involves the use of artificial neural networks (ANNs) with multiple layers of interconnected nodes (neurons) to analyze and interpret data. These networks are inspired by the structure and function of the human brain, which is composed of layers of interconnected neurons that process and transmit information.\\n\\nIn a traditional neural network, each node (neuron) receives inputs, performs a computation, and then sends the output to other nodes. In contrast, deep learning networks use multiple layers of nodes to process and analyze data, allowing them to learn complex patterns and relationships between variables.\\n\\nThe key characteristics of deep learning networks include:\\n\\n1. **Multi-layered architecture**: Deep learning networks have multiple layers of nodes, each with its own set of weights and biases. The number of layers and the complexity of the connections between nodes determine the level of abstraction and the type of data that can be processed.\\n2. **Hierarchical processing**: Deep learning networks process data in a hierarchical manner, with each layer processing the output of the previous layer. This allows the network to learn complex patterns and relationships between variables.\\n3. **Activation functions**: Deep learning networks use activation functions to introduce non-linearity into the network. These functions, such as sigmoid and ReLU ('}]\n",
      "--------------------------------------------------\n"
     ]
    },
    {
     "name": "stderr",
     "output_type": "stream",
     "text": [
      "Setting `pad_token_id` to `eos_token_id`:128001 for open-end generation.\n"
     ]
    },
    {
     "name": "stdout",
     "output_type": "stream",
     "text": [
      "Prompt: What are the main differences between Python and Java?\n",
      "Response: [{'role': 'system', 'content': 'You are a helpful assistant.'}, {'role': 'user', 'content': 'What are the main differences between Python and Java?'}, {'role': 'assistant', 'content': 'Python and Java are two of the most popular programming languages in the world. While both languages have their own strengths and weaknesses, they differ significantly in their design, syntax, and use cases. Here are the main differences between Python and Java:\\n\\n**1. Purpose:**\\n\\t* Python: High-level, interpreted language, primarily used for scripting, data analysis, machine learning, web development, and scientific computing.\\n\\t* Java: Object-oriented language, primarily used for Android app development, web development, enterprise software development, and desktop applications.\\n\\n**2. Syntax:**\\n\\t* Python: Simple, concise syntax, with a focus on readability. Uses indentation to define code blocks.\\n\\t* Java: More verbose syntax, with a focus on readability. Uses curly braces to define code blocks.\\n\\n**3. Type System:**\\n\\t* Python: Dynamic type system, which means the type of a variable is determined at runtime.\\n\\t* Java: Static type system, which means the type of a variable is determined at compile-time.\\n\\n**4. Memory Management:**\\n\\t* Python: Automatic memory management, which frees the developer from worrying about memory allocation and deallocation.\\n\\t* Java: Manual memory management, which requires the developer to manually allocate and deallocate memory using the `'}]\n",
      "--------------------------------------------------\n",
      "Prompt: Describe the process of photosynthesis.\n",
      "Response: [{'role': 'system', 'content': 'You are a helpful assistant.'}, {'role': 'user', 'content': 'Describe the process of photosynthesis.'}, {'role': 'assistant', 'content': \"Photosynthesis is the process by which plants, algae, and some bacteria convert light energy from the sun into chemical energy in the form of glucose, a type of sugar. This process is essential for life on Earth, as it provides the energy and organic compounds needed to support the food chain.\\n\\nHere's a step-by-step explanation of the photosynthesis process:\\n\\n1. **Light absorption**: Light energy from the sun is absorbed by pigments such as chlorophyll and other accessory pigments in the plant's cells.\\n2. **Excitation of electrons**: The absorbed light energy excites the electrons in the pigments, causing them to become energetic and move to higher energy levels.\\n3. **Transfer of electrons**: The excited electrons are transferred to a special molecule called an electron acceptor, which is located in the thylakoid membrane of the chloroplast.\\n4. **Reduction of water**: The electrons are passed through a series of electron carriers in the thylakoid membrane, resulting in the reduction of water (H2O) to form oxygen (O2) and protons (H+).\\n5. **Conversion of carbon dioxide**: Carbon dioxide (CO2) is absorbed from the atmosphere and converted into a form of energy called ATP (adenosine\"}]\n",
      "--------------------------------------------------\n"
     ]
    }
   ],
   "source": [
    "# Generate responses for each prompt\n",
    "for prompt in prompts:\n",
    "    messages = [\n",
    "        {\"role\": \"system\", \"content\": \"You are a helpful assistant.\"},\n",
    "        {\"role\": \"user\", \"content\": prompt}\n",
    "    ]\n",
    "    \n",
    "    outputs = pipeline(\n",
    "        messages,\n",
    "        max_new_tokens=256,\n",
    "        do_sample=True,\n",
    "        temperature=0.7,\n",
    "        top_p=0.9,\n",
    "    )\n",
    "    \n",
    "    print(f\"Prompt: {prompt}\")\n",
    "    print(f\"Response: {outputs[0]['generated_text']}\")\n",
    "    print(\"-\" * 50)"
   ]
  },
  {
   "cell_type": "code",
   "execution_count": null,
   "metadata": {},
   "outputs": [],
   "source": []
  }
 ],
 "metadata": {
  "kernelspec": {
   "display_name": "zsp",
   "language": "python",
   "name": "python3"
  },
  "language_info": {
   "name": "python",
   "version": "3.10.16"
  }
 },
 "nbformat": 4,
 "nbformat_minor": 2
}
