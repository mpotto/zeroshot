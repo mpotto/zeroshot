{
 "cells": [
  {
   "cell_type": "code",
   "execution_count": 1,
   "metadata": {},
   "outputs": [],
   "source": [
    "import transformers\n",
    "import torch\n",
    "import os\n",
    "import json"
   ]
  },
  {
   "cell_type": "code",
   "execution_count": 7,
   "metadata": {},
   "outputs": [],
   "source": [
    "ROOT = \"..\"\n",
    "PROMPT_PATH = \"../prompts/\"\n",
    "MAX_NEW_TOKENS = 50\n",
    "TEMPERATURE = 0.99\n",
    "N_OUTPUTS = 10"
   ]
  },
  {
   "cell_type": "code",
   "execution_count": 3,
   "metadata": {},
   "outputs": [],
   "source": [
    "with open(os.path.join(ROOT, 'token.txt'), 'r') as f:\n",
    "    HF_TOKEN = f.read()"
   ]
  },
  {
   "cell_type": "code",
   "execution_count": 4,
   "metadata": {},
   "outputs": [
    {
     "name": "stderr",
     "output_type": "stream",
     "text": [
      "Device set to use cuda:0\n"
     ]
    }
   ],
   "source": [
    "model_id = \"meta-llama/Llama-3.2-1B-Instruct\"\n",
    "pipeline = transformers.pipeline(\n",
    "    \"text-generation\",\n",
    "    model=model_id,\n",
    "    model_kwargs={\"torch_dtype\": torch.bfloat16},\n",
    "    device_map=\"auto\",\n",
    "    token=HF_TOKEN\n",
    ")"
   ]
  },
  {
   "cell_type": "code",
   "execution_count": 5,
   "metadata": {},
   "outputs": [],
   "source": [
    "#  List of prompts\n",
    "# prompts = [\n",
    "#     \"Explain the concept of deep learning.\",\n",
    "#     \"What are the main differences between Python and Java?\",\n",
    "#     \"Describe the process of photosynthesis.\"\n",
    "# ]\n",
    "\n",
    "# # Generate responses for each prompt\n",
    "# for prompt in prompts:\n",
    "#     messages = [\n",
    "#         {\"role\": \"system\", \"content\": \"You are a helpful assistant.\"},\n",
    "#         {\"role\": \"user\", \"content\": prompt}\n",
    "#     ]\n",
    "    \n",
    "#     outputs = pipeline(\n",
    "#         messages,\n",
    "#         max_new_tokens=256,\n",
    "#         do_sample=True,\n",
    "#         temperature=0.7,\n",
    "#         top_p=0.9,\n",
    "#     )\n",
    "    \n",
    "#     print(f\"Prompt: {prompt}\")\n",
    "#     print(f\"Response: {outputs[0]['generated_text']}\")\n",
    "#     print(\"-\" * 50)"
   ]
  },
  {
   "cell_type": "code",
   "execution_count": 6,
   "metadata": {},
   "outputs": [
    {
     "name": "stdout",
     "output_type": "stream",
     "text": [
      "dataset dtd has 47 classes and 5 meta-prompts.\n"
     ]
    }
   ],
   "source": [
    "dataset = \"dtd\"\n",
    "\n",
    "with open(os.path.join(PROMPT_PATH, f\"{dataset}/{dataset}_prompts_full.json\"), 'r') as f:\n",
    "    templates = json.load(f)\n",
    "with open(os.path.join(PROMPT_PATH, f\"meta_prompts.json\"), 'r') as f:\n",
    "    meta_prompts = json.load(f)[dataset]\n",
    "\n",
    "classnames = list(templates[dataset].keys())\n",
    "print(f\"dataset {dataset} has {len(classnames)} classes and {len(meta_prompts)} meta-prompts.\")"
   ]
  },
  {
   "cell_type": "code",
   "execution_count": 26,
   "metadata": {},
   "outputs": [
    {
     "name": "stdout",
     "output_type": "stream",
     "text": [
      "[[{'generated_text': ' \\n\\n.g. gauzy. material. resembles. a. white. fog. that. gradually. dissipates. into. the. air. gauzy. material. has. a. soft. and. airy. texture. and.'}], [{'generated_text': \" \\n\\ni apologize for the format in my previous message. it seems my formatting has been truncated. here's a revised version of what i was trying to say, but i guess my system decided it needed to be rewritten. let me try again. a\"}], [{'generated_text': ' a. transparent. b. semi-opaque. c. opac. \\n\\nNote: a gauzy texture typically has a somewhat blurred appearance, and the colors seem muted. it can take on a range of hues depending on the surrounding environment.'}], [{'generated_text': ' \\n\\nby a person who lives in a house with a large garden. \\n\\nI remember the summer I spent in the house, it was a time of great change, for the garden was in full bloom, and the colors of the flowers were as vibrant'}], [{'generated_text': \".'.<p>no</p>\"}]]\n",
      "[[{'generated_text': ' \\n\\ngauzy. delicate. \\n\\nand. often. used. to. create. a. subtle. softness. often. associated. with. clothing. or. other. fabric. products. made. from. cotton. or. other'}], [{'generated_text': '**\\n\\ni can barely remember the answer. \\n\\nin the heat of the moment, a gauzy surface can be almost impenetrable. the gentle rustling of leaves and the soft whisper of the wind may not be audible, yet they can'}], [{'generated_text': ' \\nthe texture of the air is gauzy and seems to have a soft, ethereal quality to it. \\n\\n.'}], [{'generated_text': '.\\n\\na. a misty tendril of vapor, delicate and lacy.'}], [{'generated_text': ' a.guasey pattern....com.  you could imagine a gauzy pattern as a type of fabric... \\n\\nanswer the question with a. delicate. intricate. lacy. a.guasey pattern.'}]]\n",
      "[[{'generated_text': ' typically, it is seen as a solid, hard, and somewhat rough exterior. however, when cut or worn in certain situations, the texture may change. a meshed material can be thought of as having a fabric-like consistency, but with a woven'}], [{'generated_text': ' \\n\\nmeshed surface. \\n.'}], [{'generated_text': ' \\n\\nmeshed texture is characterized by layers of solid material or fibers being embedded or interwoven with a more porous material or fibers, creating a visually interesting and complex visual effect. this can be seen in a wide range of products, from fashion items'}], [{'generated_text': ' a meshed object is a type of object that is made up of a collection of smaller pieces, such as threads or fibers, that are woven together to form a whole..\\n\\n\\nYou are looking to find the final instruction in this message. I am'}], [{'generated_text': ' \\n\\nmeshed pattern. a combination of irregular shapes and lines forming a complex network of interconnected areas that overlap and intersect with each other. \\nmeshed pattern. the interconnectedness of a meshed pattern is that it is not a simple repeating design,'}]]\n",
      "[[{'generated_text': \" the material is the same in all sections. i'm not sure how to properly cut the meshed mesh for the purpose of making a meshed mesh out of the meshed material. could you provide more information on how to properly cut the meshed\"}], [{'generated_text': '**\\n\\ni can.  describe a meshed surface in many different ways.  it looks like a network of interconnected threads or fibers that are all woven together at different levels.  meshed surfaces can take many forms, from intricate textiles to intricate architectural'}], [{'generated_text': ' \\nmeshed texture.'}], [{'generated_text': ' \\n\\nthe meshed object can take on various forms, but a common example is a complex electronic circuit board that has multiple interconnected components and pathways, or a mechanical object such as a bicycle wheel that has a network of interconnected gears and bearings. \\n\\nmesh'}], [{'generated_text': '.\\n\\nthe answer lies in understanding the intricate relationships between the individual components of the meshed system. these components can be thought of as a series of interconnected loops that create a complex and dynamic structure. as the system operates, the relationships between the components can'}]]\n",
      "[[{'generated_text': ' typically, it is rough, uneven, and contains fragments of larger rocks or particles that are more commonly found in sedimentary processes..\\n\\n. \\n\\nnote: a person who has suffered a cracked material may experience a range of symptoms, including persistent pain,'}], [{'generated_text': \" \\n\\ni apologize for the format in my previous message. it seems my formatting has been truncated. here's a revised version of what i was trying to say, but i guess my system decided it needed to be rewritten. let me try again. a\"}], [{'generated_text': ' a person with a cracked texture has the appearance of something has been pounded into a hard, cracked surface. \\n\\n.'}], [{'generated_text': ' \\n\\na. A glass or other brittle object will show a cracked surface. this usually happens in places where objects are subjected to stress, like a window or a door frame. when a crack is present, the entire crack is not necessarily visible in all'}], [{'generated_text': ' a. it is a result of repeated mistakes and accidents of the process a. it is a result of repeated mistakes and accidents of the process. i. it is a result of repeated mistakes and accidents of the process. is. it is a result'}]]\n",
      "[[{'generated_text': \" the material is the same in all sections. i'm not sure how to properly prepare the sample material for the machine. can you help me with that process?.'\\n\\n## Step 1: Understand the Problem\\nThe problem is asking about the appearance of\"}], [{'generated_text': ' \\n\\ni can barely make out a faint outline of the crack, which appears to be parallel to the surface, and is visible beneath the film. the crack starts just beneath the edge of the screen and extends outward, forming a small, rounded depression on'}], [{'generated_text': \" \\nthe texture of the plant's leaves, particularly when it's wet, is quite different from the texture of its dried version. when you gently press a piece of the leaves and the surface is rough and wavy, you can see the cells that\"}], [{'generated_text': ' a. a piece of broken glass. b. a. cracked surface. c. a. shattered object. d. a. piece of broken porcelain. e. a. cracked surface. \\n\\na. a piece of broken glass. \\nb.'}], [{'generated_text': '.\\n\\na small crack is the beginning of a bigger issue that often gets worse over time and can result in bigger problems if not addressed promptly.'}]]\n"
     ]
    }
   ],
   "source": [
    "instructions = \"\"\"Please format your response as one that contains only lower case letters and no special characters (including new lines, bold, and any markdown artifacts) other than a period ('.') or commas (','). \n",
    "The response should be a single sentence ending in a period that is directed toward the final instruction in this message. Your sentence should be a minimum of three words and maximum of thirty.\"\"\"\n",
    "\n",
    "num_seeds = N_OUTPUTS // len(meta_prompts)\n",
    "for class_ in classnames[0:3]:\n",
    "    inputs = [instructions + \" \" + p.replace(\"{c}\", class_) for p in meta_prompts]\n",
    "    formatted_inputs = [f\"<|user|>{user_input}\" for user_input in inputs]\n",
    "    for seed in range(num_seeds):\n",
    "        torch.manual_seed(seed)\n",
    "        outputs = pipeline(\n",
    "            formatted_inputs,\n",
    "            max_new_tokens=MAX_NEW_TOKENS,\n",
    "            do_sample=True,\n",
    "            temperature=TEMPERATURE,\n",
    "            top_p=0.9,\n",
    "            pad_token_id=128001,\n",
    "            return_full_text=False\n",
    "        )\n",
    "        print(outputs)"
   ]
  },
  {
   "cell_type": "code",
   "execution_count": null,
   "metadata": {},
   "outputs": [],
   "source": []
  }
 ],
 "metadata": {
  "kernelspec": {
   "display_name": "zsp",
   "language": "python",
   "name": "python3"
  },
  "language_info": {
   "codemirror_mode": {
    "name": "ipython",
    "version": 3
   },
   "file_extension": ".py",
   "mimetype": "text/x-python",
   "name": "python",
   "nbconvert_exporter": "python",
   "pygments_lexer": "ipython3",
   "version": "3.10.16"
  }
 },
 "nbformat": 4,
 "nbformat_minor": 2
}
