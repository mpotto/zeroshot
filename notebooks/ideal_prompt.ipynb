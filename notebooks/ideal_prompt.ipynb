{
 "cells": [
  {
   "cell_type": "code",
   "execution_count": null,
   "metadata": {},
   "outputs": [],
   "source": [
    "# V1.\n",
    "# Subset the data into independent data used for estimating the prompts.\n",
    "# Find prompts used in OpenCLIP and figure out prompt averaging.\n",
    "# Use prompts for hand-evaluation of zero-shot accuracy.\n",
    "# Turn into a script.\n",
    "# Run both.\n",
    "\n",
    "# V2.\n",
    "# Find similar classes between downstream evaluations."
   ]
  }
 ],
 "metadata": {
  "kernelspec": {
   "display_name": "zsp",
   "language": "python",
   "name": "python3"
  },
  "language_info": {
   "name": "python",
   "version": "3.10.16"
  }
 },
 "nbformat": 4,
 "nbformat_minor": 2
}
